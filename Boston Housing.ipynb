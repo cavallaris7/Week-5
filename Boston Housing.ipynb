{
 "cells": [
  {
   "cell_type": "code",
   "execution_count": 1,
   "metadata": {
    "collapsed": true
   },
   "outputs": [],
   "source": [
    "from sklearn import datasets\n",
    "import pandas as pd\n",
    "from sklearn.preprocessing import StandardScaler\n",
    "from sklearn.cross_validation import train_test_split\n",
    "from sklearn.metrics import mean_squared_error\n",
    "from sklearn.metrics import r2_score\n",
    "from sklearn.linear_model import LinearRegression"
   ]
  },
  {
   "cell_type": "code",
   "execution_count": 2,
   "metadata": {
    "collapsed": false
   },
   "outputs": [
    {
     "name": "stdout",
     "output_type": "stream",
     "text": [
      "Boston House Prices dataset\n",
      "\n",
      "Notes\n",
      "------\n",
      "Data Set Characteristics:  \n",
      "\n",
      "    :Number of Instances: 506 \n",
      "\n",
      "    :Number of Attributes: 13 numeric/categorical predictive\n",
      "    \n",
      "    :Median Value (attribute 14) is usually the target\n",
      "\n",
      "    :Attribute Information (in order):\n",
      "        - CRIM     per capita crime rate by town\n",
      "        - ZN       proportion of residential land zoned for lots over 25,000 sq.ft.\n",
      "        - INDUS    proportion of non-retail business acres per town\n",
      "        - CHAS     Charles River dummy variable (= 1 if tract bounds river; 0 otherwise)\n",
      "        - NOX      nitric oxides concentration (parts per 10 million)\n",
      "        - RM       average number of rooms per dwelling\n",
      "        - AGE      proportion of owner-occupied units built prior to 1940\n",
      "        - DIS      weighted distances to five Boston employment centres\n",
      "        - RAD      index of accessibility to radial highways\n",
      "        - TAX      full-value property-tax rate per $10,000\n",
      "        - PTRATIO  pupil-teacher ratio by town\n",
      "        - B        1000(Bk - 0.63)^2 where Bk is the proportion of blacks by town\n",
      "        - LSTAT    % lower status of the population\n",
      "        - MEDV     Median value of owner-occupied homes in $1000's\n",
      "\n",
      "    :Missing Attribute Values: None\n",
      "\n",
      "    :Creator: Harrison, D. and Rubinfeld, D.L.\n",
      "\n",
      "This is a copy of UCI ML housing dataset.\n",
      "http://archive.ics.uci.edu/ml/datasets/Housing\n",
      "\n",
      "\n",
      "This dataset was taken from the StatLib library which is maintained at Carnegie Mellon University.\n",
      "\n",
      "The Boston house-price data of Harrison, D. and Rubinfeld, D.L. 'Hedonic\n",
      "prices and the demand for clean air', J. Environ. Economics & Management,\n",
      "vol.5, 81-102, 1978.   Used in Belsley, Kuh & Welsch, 'Regression diagnostics\n",
      "...', Wiley, 1980.   N.B. Various transformations are used in the table on\n",
      "pages 244-261 of the latter.\n",
      "\n",
      "The Boston house-price data has been used in many machine learning papers that address regression\n",
      "problems.   \n",
      "     \n",
      "**References**\n",
      "\n",
      "   - Belsley, Kuh & Welsch, 'Regression diagnostics: Identifying Influential Data and Sources of Collinearity', Wiley, 1980. 244-261.\n",
      "   - Quinlan,R. (1993). Combining Instance-Based and Model-Based Learning. In Proceedings on the Tenth International Conference of Machine Learning, 236-243, University of Massachusetts, Amherst. Morgan Kaufmann.\n",
      "   - many more! (see http://archive.ics.uci.edu/ml/datasets/Housing)\n",
      "\n"
     ]
    }
   ],
   "source": [
    "bean = datasets.load_boston()\n",
    "print bean.DESCR"
   ]
  },
  {
   "cell_type": "code",
   "execution_count": 3,
   "metadata": {
    "collapsed": true
   },
   "outputs": [],
   "source": [
    "def load_boston():\n",
    "    scaler = StandardScaler()\n",
    "    boston = datasets.load_boston()\n",
    "    X=boston.data\n",
    "    y=boston.target\n",
    "    X = scaler.fit_transform(X)\n",
    "    return train_test_split(X,y)"
   ]
  },
  {
   "cell_type": "code",
   "execution_count": 4,
   "metadata": {
    "collapsed": true
   },
   "outputs": [],
   "source": [
    "X_train, X_test, y_train, y_test = load_boston()"
   ]
  },
  {
   "cell_type": "code",
   "execution_count": 5,
   "metadata": {
    "collapsed": false
   },
   "outputs": [
    {
     "data": {
      "text/plain": [
       "(379, 13)"
      ]
     },
     "execution_count": 5,
     "metadata": {},
     "output_type": "execute_result"
    }
   ],
   "source": [
    "X_train.shape"
   ]
  },
  {
   "cell_type": "code",
   "execution_count": 6,
   "metadata": {
    "collapsed": false
   },
   "outputs": [
    {
     "data": {
      "text/plain": [
       "LinearRegression(copy_X=True, fit_intercept=True, n_jobs=1, normalize=False)"
      ]
     },
     "execution_count": 6,
     "metadata": {},
     "output_type": "execute_result"
    }
   ],
   "source": [
    "clf = LinearRegression()\n",
    "clf.fit(X_train, y_train)"
   ]
  },
  {
   "cell_type": "code",
   "execution_count": 7,
   "metadata": {
    "collapsed": false
   },
   "outputs": [
    {
     "data": {
      "text/plain": [
       "[(8.0999999999999996, 3.9826348946747281),\n",
       " (19.300000000000001, 21.619590785253756),\n",
       " (20.100000000000001, 18.649733645690162),\n",
       " (19.899999999999999, 19.273369062358615),\n",
       " (10.199999999999999, 6.9849506736718681),\n",
       " (20.199999999999999, 16.447664846068704),\n",
       " (10.9, 14.286754761464804),\n",
       " (20.899999999999999, 22.111503182590646),\n",
       " (21.199999999999999, 21.755481360843941),\n",
       " (13.300000000000001, 13.944505916202559),\n",
       " (23.100000000000001, 24.807692093519037),\n",
       " (10.4, 7.3610063728028923),\n",
       " (23.800000000000001, 24.829465163244443),\n",
       " (20.399999999999999, 22.858709520762378),\n",
       " (13.199999999999999, 9.0208360572490616),\n",
       " (21.600000000000001, 24.959213486627018),\n",
       " (21.800000000000001, 21.170500519259395),\n",
       " (22.5, 29.647241998781091),\n",
       " (21.199999999999999, 21.765933684621128),\n",
       " (23.899999999999999, 24.934566392422191),\n",
       " (24.699999999999999, 24.650605015732609),\n",
       " (22.800000000000001, 26.795863815409895),\n",
       " (19.100000000000001, 17.00927215069898),\n",
       " (19.0, 14.017439903194166),\n",
       " (8.3000000000000007, 13.393848452255453),\n",
       " (20.300000000000001, 23.856347937120791),\n",
       " (37.899999999999999, 34.178991332964813),\n",
       " (36.0, 37.30953074554764),\n",
       " (11.9, 8.7808907182978295),\n",
       " (22.800000000000001, 29.542644615609895),\n",
       " (23.199999999999999, 17.278598258881193),\n",
       " (12.0, 11.829135201955499),\n",
       " (7.4000000000000004, 6.3226321605700377),\n",
       " (16.100000000000001, 19.300923382875698),\n",
       " (19.5, 17.681569713338579),\n",
       " (15.6, 13.146153092198963),\n",
       " (14.5, 13.890683826643716),\n",
       " (21.199999999999999, 22.908931424456565),\n",
       " (19.5, 19.534155493869335),\n",
       " (30.100000000000001, 24.887746749219698),\n",
       " (17.399999999999999, 17.522514171877209),\n",
       " (24.300000000000001, 19.662882104211),\n",
       " (19.899999999999999, 19.918339567237506),\n",
       " (31.5, 31.577739425165312),\n",
       " (24.699999999999999, 25.158303388439158),\n",
       " (14.9, 14.913615416036411),\n",
       " (19.600000000000001, 18.749822586959002),\n",
       " (39.799999999999997, 34.982209195842323),\n",
       " (20.300000000000001, 22.475735855259376),\n",
       " (46.0, 39.29989566638055),\n",
       " (34.899999999999999, 35.247212379955222),\n",
       " (18.399999999999999, 18.62939261708787),\n",
       " (42.799999999999997, 29.064123167511969),\n",
       " (32.5, 31.354867405476654),\n",
       " (14.9, 17.543339683850093),\n",
       " (19.300000000000001, 21.327810284529669),\n",
       " (18.399999999999999, 15.634376062116752),\n",
       " (50.0, 33.201439110955725),\n",
       " (32.0, 34.238605366536405),\n",
       " (22.600000000000001, 18.98984410264703),\n",
       " (28.5, 34.113074899963898),\n",
       " (37.600000000000001, 37.454415948933985),\n",
       " (17.5, 18.992645640179429),\n",
       " (24.800000000000001, 26.285734171281863),\n",
       " (19.899999999999999, 17.745156032233233),\n",
       " (23.100000000000001, 20.561706009941194),\n",
       " (17.5, 16.912253775012541),\n",
       " (25.0, 27.624834261956146),\n",
       " (20.800000000000001, 18.582238311541929),\n",
       " (22.300000000000001, 26.835315505083422),\n",
       " (8.3000000000000007, 9.9936338431292295),\n",
       " (13.1, 16.191695601639012),\n",
       " (7.0, 8.4210340017537444),\n",
       " (13.800000000000001, 16.406432456090339),\n",
       " (19.300000000000001, 16.29221735397774),\n",
       " (19.199999999999999, 24.061600474503464),\n",
       " (29.100000000000001, 32.247785703567281),\n",
       " (15.199999999999999, 19.16339650048268),\n",
       " (20.600000000000001, 27.238978445669311),\n",
       " (24.699999999999999, 23.282498804817354),\n",
       " (31.100000000000001, 32.820683170490483),\n",
       " (24.600000000000001, 24.534313970522071),\n",
       " (35.399999999999999, 34.628016377345418),\n",
       " (13.1, 14.431544270200725),\n",
       " (6.2999999999999998, 11.282631861572296),\n",
       " (28.399999999999999, 29.028518980239383),\n",
       " (17.100000000000001, 20.418094299112305),\n",
       " (19.0, 21.286453093447804),\n",
       " (14.800000000000001, 14.638999584063388),\n",
       " (11.699999999999999, 14.626207029828956),\n",
       " (50.0, 40.458700528928986),\n",
       " (23.100000000000001, 11.169934178103421),\n",
       " (22.600000000000001, 27.217858711518009),\n",
       " (18.300000000000001, 19.501103406554297),\n",
       " (19.800000000000001, 22.864677904896542),\n",
       " (16.800000000000001, 20.873210334558685),\n",
       " (21.199999999999999, 23.79164955986937),\n",
       " (23.100000000000001, 23.750607620328182),\n",
       " (33.200000000000003, 34.74630545262724),\n",
       " (22.399999999999999, 23.659700017658551),\n",
       " (16.0, 18.268920291244257),\n",
       " (23.800000000000001, 26.608798657760239),\n",
       " (5.0, 7.320687933155833),\n",
       " (21.0, 21.493103885927894),\n",
       " (8.4000000000000004, 14.550550444318699),\n",
       " (25.0, 25.556536401539887),\n",
       " (5.0, 9.1973290253371562),\n",
       " (20.600000000000001, 21.137949484533909),\n",
       " (30.699999999999999, 32.229428047455116),\n",
       " (12.300000000000001, 13.332871620433508),\n",
       " (9.5999999999999996, 14.361759845040131),\n",
       " (20.399999999999999, 19.442269192904284),\n",
       " (19.399999999999999, 17.694802028300408),\n",
       " (20.600000000000001, 19.188067318197561),\n",
       " (13.6, 12.732694446184546),\n",
       " (18.600000000000001, 19.832396722851396),\n",
       " (24.100000000000001, 30.346654223764435),\n",
       " (16.699999999999999, 19.499202085929138),\n",
       " (18.5, 19.125272646466858),\n",
       " (23.399999999999999, 24.153994203951083),\n",
       " (28.399999999999999, 31.440112167691957),\n",
       " (17.800000000000001, 22.118917353997823),\n",
       " (17.699999999999999, 19.90779975066383),\n",
       " (20.399999999999999, 20.881160969465476),\n",
       " (23.899999999999999, 28.161631094654865),\n",
       " (21.699999999999999, 21.710674653840698),\n",
       " (23.800000000000001, 23.34350545155251)]"
      ]
     },
     "execution_count": 7,
     "metadata": {},
     "output_type": "execute_result"
    }
   ],
   "source": [
    "zip (y_test, clf.predict(X_test))"
   ]
  },
  {
   "cell_type": "markdown",
   "metadata": {},
   "source": [
    "So now the fun begins. \"Impliment scikit learn's r2 and mse methods to measure the performance of my linear regressor.\""
   ]
  },
  {
   "cell_type": "markdown",
   "metadata": {},
   "source": [
    "I'll start by implementing the r2 method"
   ]
  },
  {
   "cell_type": "code",
   "execution_count": 32,
   "metadata": {
    "collapsed": false
   },
   "outputs": [
    {
     "name": "stdout",
     "output_type": "stream",
     "text": [
      "rtest: 0.800987911443\n",
      "rtrain: 0.718528478954\n"
     ]
    }
   ],
   "source": [
    "from sklearn import metrics\n",
    "rtest = metrics.r2_score(y_test, clf.predict(X_test))\n",
    "rtrain = metrics.r2_score(y_train, clf.predict(X_train))\n",
    "\n",
    "print \"rtest:\",rtest\n",
    "print \"rtrain:\", rtrain"
   ]
  },
  {
   "cell_type": "markdown",
   "metadata": {},
   "source": [
    "Now I'll implement the mse method"
   ]
  },
  {
   "cell_type": "code",
   "execution_count": 35,
   "metadata": {
    "collapsed": false
   },
   "outputs": [
    {
     "name": "stdout",
     "output_type": "stream",
     "text": [
      "Mean Squared Error: 13.9456727168\n"
     ]
    }
   ],
   "source": [
    "MSE = metrics.mean_squared_error(y_test, clf.predict(X_test))\n",
    "\n",
    "print \"Mean Squared Error:\", MSE"
   ]
  },
  {
   "cell_type": "markdown",
   "metadata": {},
   "source": [
    "We can also calculate the RMSE as well, by taking the square root of the MSE"
   ]
  },
  {
   "cell_type": "code",
   "execution_count": 36,
   "metadata": {
    "collapsed": false
   },
   "outputs": [
    {
     "name": "stdout",
     "output_type": "stream",
     "text": [
      "RMSE: 3.73439054155\n"
     ]
    }
   ],
   "source": [
    "import numpy as np\n",
    "RMSE = np.sqrt(MSE)\n",
    "\n",
    "print \"RMSE:\", RMSE"
   ]
  },
  {
   "cell_type": "markdown",
   "metadata": {},
   "source": [
    "Next is: \"Impliment either sklearn.linear_model.Ridge or sklearn.linear_model.Lasso.\""
   ]
  },
  {
   "cell_type": "markdown",
   "metadata": {},
   "source": [
    "I think Lasso looks a bit easier, so I'll try it. I'll set alpha to 0.01 to start, as per the Gradient Descent learner."
   ]
  },
  {
   "cell_type": "code",
   "execution_count": 79,
   "metadata": {
    "collapsed": false
   },
   "outputs": [
    {
     "data": {
      "text/plain": [
       "Lasso(alpha=0.01, copy_X=True, fit_intercept=True, max_iter=1000,\n",
       "   normalize=False, positive=False, precompute=False, random_state=None,\n",
       "   selection='cyclic', tol=0.0001, warm_start=False)"
      ]
     },
     "execution_count": 79,
     "metadata": {},
     "output_type": "execute_result"
    }
   ],
   "source": [
    "from sklearn import linear_model\n",
    "\n",
    "lasso = linear_model.Lasso(alpha = .01)\n",
    "lasso.fit(X_train, y_train)"
   ]
  },
  {
   "cell_type": "markdown",
   "metadata": {},
   "source": [
    "Now I can output the test vs train scores"
   ]
  },
  {
   "cell_type": "code",
   "execution_count": 80,
   "metadata": {
    "collapsed": false
   },
   "outputs": [
    {
     "name": "stdout",
     "output_type": "stream",
     "text": [
      "Lasso test: 0.801266863712\n",
      "Lasso train: 0.718477882778\n"
     ]
    }
   ],
   "source": [
    "lassotest = lasso.score(X_test, y_test)\n",
    "lassotrain = lasso.score(X_train, y_train)\n",
    "\n",
    "print \"Lasso test:\", lassotest\n",
    "print \"Lasso train:\", lassotrain"
   ]
  }
 ],
 "metadata": {
  "kernelspec": {
   "display_name": "Python 2",
   "language": "python",
   "name": "python2"
  },
  "language_info": {
   "codemirror_mode": {
    "name": "ipython",
    "version": 2
   },
   "file_extension": ".py",
   "mimetype": "text/x-python",
   "name": "python",
   "nbconvert_exporter": "python",
   "pygments_lexer": "ipython2",
   "version": "2.7.11"
  }
 },
 "nbformat": 4,
 "nbformat_minor": 0
}
